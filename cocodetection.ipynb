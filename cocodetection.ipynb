{
  "cells": [
    {
      "cell_type": "code",
      "execution_count": null,
      "metadata": {
        "colab": {
          "base_uri": "https://localhost:8080/"
        },
        "id": "Gtvfsp3wWRH_",
        "outputId": "f21bd120-7dc3-4244-8c6c-328a35d6bf80"
      },
      "outputs": [
        {
          "output_type": "stream",
          "name": "stdout",
          "text": [
            "Looking in indexes: https://pypi.org/simple, https://us-python.pkg.dev/colab-wheels/public/simple/\n",
            "Requirement already satisfied: fiftyone in /usr/local/lib/python3.7/dist-packages (0.17.2)\n",
            "Requirement already satisfied: Deprecated in /usr/local/lib/python3.7/dist-packages (from fiftyone) (1.2.13)\n",
            "Requirement already satisfied: pytz in /usr/local/lib/python3.7/dist-packages (from fiftyone) (2022.4)\n",
            "Requirement already satisfied: fiftyone-brain<0.10,>=0.9.1 in /usr/local/lib/python3.7/dist-packages (from fiftyone) (0.9.1)\n",
            "Requirement already satisfied: boto3 in /usr/local/lib/python3.7/dist-packages (from fiftyone) (1.24.89)\n",
            "Requirement already satisfied: setuptools in /usr/local/lib/python3.7/dist-packages (from fiftyone) (57.4.0)\n",
            "Requirement already satisfied: pymongo<4,>=3.11 in /usr/local/lib/python3.7/dist-packages (from fiftyone) (3.12.3)\n",
            "Requirement already satisfied: retrying in /usr/local/lib/python3.7/dist-packages (from fiftyone) (1.3.3)\n",
            "Requirement already satisfied: numpy in /usr/local/lib/python3.7/dist-packages (from fiftyone) (1.21.6)\n",
            "Requirement already satisfied: scikit-learn in /usr/local/lib/python3.7/dist-packages (from fiftyone) (1.0.2)\n",
            "Requirement already satisfied: xmltodict in /usr/local/lib/python3.7/dist-packages (from fiftyone) (0.13.0)\n",
            "Requirement already satisfied: matplotlib in /usr/local/lib/python3.7/dist-packages (from fiftyone) (3.2.2)\n",
            "Requirement already satisfied: kaleido in /usr/local/lib/python3.7/dist-packages (from fiftyone) (0.2.1)\n",
            "Requirement already satisfied: starlette==0.16.0 in /usr/local/lib/python3.7/dist-packages (from fiftyone) (0.16.0)\n",
            "Requirement already satisfied: Jinja2>=3 in /usr/local/lib/python3.7/dist-packages (from fiftyone) (3.1.2)\n",
            "Requirement already satisfied: aiofiles in /usr/local/lib/python3.7/dist-packages (from fiftyone) (22.1.0)\n",
            "Requirement already satisfied: packaging in /usr/local/lib/python3.7/dist-packages (from fiftyone) (21.3)\n",
            "Requirement already satisfied: hypercorn>=0.13.2 in /usr/local/lib/python3.7/dist-packages (from fiftyone) (0.14.3)\n",
            "Requirement already satisfied: Pillow>=6.2 in /usr/local/lib/python3.7/dist-packages (from fiftyone) (7.1.2)\n",
            "Requirement already satisfied: sse-starlette<1,>=0.10.3 in /usr/local/lib/python3.7/dist-packages (from fiftyone) (0.10.3)\n",
            "Requirement already satisfied: dacite>=1.6.0 in /usr/local/lib/python3.7/dist-packages (from fiftyone) (1.6.0)\n",
            "Requirement already satisfied: argcomplete in /usr/local/lib/python3.7/dist-packages (from fiftyone) (2.0.0)\n",
            "Requirement already satisfied: pandas in /usr/local/lib/python3.7/dist-packages (from fiftyone) (1.3.5)\n",
            "Requirement already satisfied: eventlet in /usr/local/lib/python3.7/dist-packages (from fiftyone) (0.33.1)\n",
            "Requirement already satisfied: pprintpp in /usr/local/lib/python3.7/dist-packages (from fiftyone) (0.4.0)\n",
            "Requirement already satisfied: strawberry-graphql==0.96.0 in /usr/local/lib/python3.7/dist-packages (from fiftyone) (0.96.0)\n",
            "Requirement already satisfied: sseclient-py<2,>=1.7.2 in /usr/local/lib/python3.7/dist-packages (from fiftyone) (1.7.2)\n",
            "Requirement already satisfied: plotly>=4.14 in /usr/local/lib/python3.7/dist-packages (from fiftyone) (5.5.0)\n",
            "Requirement already satisfied: psutil in /usr/local/lib/python3.7/dist-packages (from fiftyone) (5.4.8)\n",
            "Requirement already satisfied: fiftyone-db<0.4,>=0.3 in /usr/local/lib/python3.7/dist-packages (from fiftyone) (0.3.0)\n",
            "Requirement already satisfied: tabulate in /usr/local/lib/python3.7/dist-packages (from fiftyone) (0.8.10)\n",
            "Requirement already satisfied: future in /usr/local/lib/python3.7/dist-packages (from fiftyone) (0.16.0)\n",
            "Requirement already satisfied: PyYAML in /usr/local/lib/python3.7/dist-packages (from fiftyone) (6.0)\n",
            "Requirement already satisfied: ndjson in /usr/local/lib/python3.7/dist-packages (from fiftyone) (0.3.1)\n",
            "Requirement already satisfied: scikit-image in /usr/local/lib/python3.7/dist-packages (from fiftyone) (0.18.3)\n",
            "Requirement already satisfied: voxel51-eta<0.9,>=0.8.1 in /usr/local/lib/python3.7/dist-packages (from fiftyone) (0.8.1)\n",
            "Requirement already satisfied: opencv-python-headless in /usr/local/lib/python3.7/dist-packages (from fiftyone) (4.6.0.66)\n",
            "Requirement already satisfied: universal-analytics-python3<2,>=1.0.1 in /usr/local/lib/python3.7/dist-packages (from fiftyone) (1.1.1)\n",
            "Requirement already satisfied: mongoengine==0.20.0 in /usr/local/lib/python3.7/dist-packages (from fiftyone) (0.20.0)\n",
            "Requirement already satisfied: motor<3,>=2.3 in /usr/local/lib/python3.7/dist-packages (from fiftyone) (2.5.1)\n",
            "Requirement already satisfied: anyio<4,>=3.0.0 in /usr/local/lib/python3.7/dist-packages (from starlette==0.16.0->fiftyone) (3.6.1)\n",
            "Requirement already satisfied: typing-extensions in /usr/local/lib/python3.7/dist-packages (from starlette==0.16.0->fiftyone) (4.1.1)\n",
            "Requirement already satisfied: python-multipart<0.0.6,>=0.0.5 in /usr/local/lib/python3.7/dist-packages (from strawberry-graphql==0.96.0->fiftyone) (0.0.5)\n",
            "Requirement already satisfied: click<9.0,>=7.0 in /usr/local/lib/python3.7/dist-packages (from strawberry-graphql==0.96.0->fiftyone) (7.1.2)\n",
            "Requirement already satisfied: sentinel<0.4.0,>=0.3.0 in /usr/local/lib/python3.7/dist-packages (from strawberry-graphql==0.96.0->fiftyone) (0.3.0)\n",
            "Requirement already satisfied: graphql-core<3.2.0,>=3.1.0 in /usr/local/lib/python3.7/dist-packages (from strawberry-graphql==0.96.0->fiftyone) (3.1.7)\n",
            "Requirement already satisfied: pygments<3.0,>=2.3 in /usr/local/lib/python3.7/dist-packages (from strawberry-graphql==0.96.0->fiftyone) (2.6.1)\n",
            "Requirement already satisfied: python-dateutil<3.0.0,>=2.7.0 in /usr/local/lib/python3.7/dist-packages (from strawberry-graphql==0.96.0->fiftyone) (2.8.2)\n",
            "Requirement already satisfied: backports.cached-property<2.0.0,>=1.0.1 in /usr/local/lib/python3.7/dist-packages (from strawberry-graphql==0.96.0->fiftyone) (1.0.2)\n",
            "Requirement already satisfied: idna>=2.8 in /usr/local/lib/python3.7/dist-packages (from anyio<4,>=3.0.0->starlette==0.16.0->fiftyone) (2.10)\n",
            "Requirement already satisfied: sniffio>=1.1 in /usr/local/lib/python3.7/dist-packages (from anyio<4,>=3.0.0->starlette==0.16.0->fiftyone) (1.3.0)\n",
            "Requirement already satisfied: scipy>=1.2.0 in /usr/local/lib/python3.7/dist-packages (from fiftyone-brain<0.10,>=0.9.1->fiftyone) (1.7.3)\n",
            "Requirement already satisfied: h2>=3.1.0 in /usr/local/lib/python3.7/dist-packages (from hypercorn>=0.13.2->fiftyone) (4.1.0)\n",
            "Requirement already satisfied: wsproto>=0.14.0 in /usr/local/lib/python3.7/dist-packages (from hypercorn>=0.13.2->fiftyone) (1.2.0)\n",
            "Requirement already satisfied: priority in /usr/local/lib/python3.7/dist-packages (from hypercorn>=0.13.2->fiftyone) (2.0.0)\n",
            "Requirement already satisfied: toml in /usr/local/lib/python3.7/dist-packages (from hypercorn>=0.13.2->fiftyone) (0.10.2)\n",
            "Requirement already satisfied: h11 in /usr/local/lib/python3.7/dist-packages (from hypercorn>=0.13.2->fiftyone) (0.12.0)\n",
            "Requirement already satisfied: hpack<5,>=4.0 in /usr/local/lib/python3.7/dist-packages (from h2>=3.1.0->hypercorn>=0.13.2->fiftyone) (4.0.0)\n",
            "Requirement already satisfied: hyperframe<7,>=6.0 in /usr/local/lib/python3.7/dist-packages (from h2>=3.1.0->hypercorn>=0.13.2->fiftyone) (6.0.1)\n",
            "Requirement already satisfied: MarkupSafe>=2.0 in /usr/local/lib/python3.7/dist-packages (from Jinja2>=3->fiftyone) (2.0.1)\n",
            "Requirement already satisfied: six in /usr/local/lib/python3.7/dist-packages (from plotly>=4.14->fiftyone) (1.15.0)\n",
            "Requirement already satisfied: tenacity>=6.2.0 in /usr/local/lib/python3.7/dist-packages (from plotly>=4.14->fiftyone) (8.1.0)\n",
            "Requirement already satisfied: httpx>=0.10.0 in /usr/local/lib/python3.7/dist-packages (from universal-analytics-python3<2,>=1.0.1->fiftyone) (0.23.0)\n",
            "Requirement already satisfied: httpcore<0.16.0,>=0.15.0 in /usr/local/lib/python3.7/dist-packages (from httpx>=0.10.0->universal-analytics-python3<2,>=1.0.1->fiftyone) (0.15.0)\n",
            "Requirement already satisfied: rfc3986[idna2008]<2,>=1.3 in /usr/local/lib/python3.7/dist-packages (from httpx>=0.10.0->universal-analytics-python3<2,>=1.0.1->fiftyone) (1.5.0)\n",
            "Requirement already satisfied: certifi in /usr/local/lib/python3.7/dist-packages (from httpx>=0.10.0->universal-analytics-python3<2,>=1.0.1->fiftyone) (2022.9.24)\n",
            "Requirement already satisfied: tzlocal in /usr/local/lib/python3.7/dist-packages (from voxel51-eta<0.9,>=0.8.1->fiftyone) (1.5.1)\n",
            "Requirement already satisfied: requests in /usr/local/lib/python3.7/dist-packages (from voxel51-eta<0.9,>=0.8.1->fiftyone) (2.23.0)\n",
            "Requirement already satisfied: dill in /usr/local/lib/python3.7/dist-packages (from voxel51-eta<0.9,>=0.8.1->fiftyone) (0.3.5.1)\n",
            "Requirement already satisfied: patool in /usr/local/lib/python3.7/dist-packages (from voxel51-eta<0.9,>=0.8.1->fiftyone) (1.12)\n",
            "Requirement already satisfied: importlib-metadata in /usr/local/lib/python3.7/dist-packages (from voxel51-eta<0.9,>=0.8.1->fiftyone) (4.13.0)\n",
            "Requirement already satisfied: sortedcontainers in /usr/local/lib/python3.7/dist-packages (from voxel51-eta<0.9,>=0.8.1->fiftyone) (2.4.0)\n",
            "Requirement already satisfied: urllib3 in /usr/local/lib/python3.7/dist-packages (from voxel51-eta<0.9,>=0.8.1->fiftyone) (1.25.11)\n",
            "Requirement already satisfied: glob2 in /usr/local/lib/python3.7/dist-packages (from voxel51-eta<0.9,>=0.8.1->fiftyone) (0.7)\n",
            "Requirement already satisfied: zipp>=0.5 in /usr/local/lib/python3.7/dist-packages (from importlib-metadata->voxel51-eta<0.9,>=0.8.1->fiftyone) (3.8.1)\n",
            "Requirement already satisfied: botocore<1.28.0,>=1.27.89 in /usr/local/lib/python3.7/dist-packages (from boto3->fiftyone) (1.27.89)\n",
            "Requirement already satisfied: jmespath<2.0.0,>=0.7.1 in /usr/local/lib/python3.7/dist-packages (from boto3->fiftyone) (1.0.1)\n",
            "Requirement already satisfied: s3transfer<0.7.0,>=0.6.0 in /usr/local/lib/python3.7/dist-packages (from boto3->fiftyone) (0.6.0)\n",
            "Requirement already satisfied: wrapt<2,>=1.10 in /usr/local/lib/python3.7/dist-packages (from Deprecated->fiftyone) (1.14.1)\n",
            "Requirement already satisfied: dnspython>=1.15.0 in /usr/local/lib/python3.7/dist-packages (from eventlet->fiftyone) (2.2.1)\n",
            "Requirement already satisfied: greenlet>=0.3 in /usr/local/lib/python3.7/dist-packages (from eventlet->fiftyone) (1.1.3)\n",
            "Requirement already satisfied: pyparsing!=2.0.4,!=2.1.2,!=2.1.6,>=2.0.1 in /usr/local/lib/python3.7/dist-packages (from matplotlib->fiftyone) (3.0.9)\n",
            "Requirement already satisfied: kiwisolver>=1.0.1 in /usr/local/lib/python3.7/dist-packages (from matplotlib->fiftyone) (1.4.4)\n",
            "Requirement already satisfied: cycler>=0.10 in /usr/local/lib/python3.7/dist-packages (from matplotlib->fiftyone) (0.11.0)\n",
            "Requirement already satisfied: chardet<4,>=3.0.2 in /usr/local/lib/python3.7/dist-packages (from requests->voxel51-eta<0.9,>=0.8.1->fiftyone) (3.0.4)\n",
            "Requirement already satisfied: networkx>=2.0 in /usr/local/lib/python3.7/dist-packages (from scikit-image->fiftyone) (2.6.3)\n",
            "Requirement already satisfied: PyWavelets>=1.1.1 in /usr/local/lib/python3.7/dist-packages (from scikit-image->fiftyone) (1.3.0)\n",
            "Requirement already satisfied: imageio>=2.3.0 in /usr/local/lib/python3.7/dist-packages (from scikit-image->fiftyone) (2.9.0)\n",
            "Requirement already satisfied: tifffile>=2019.7.26 in /usr/local/lib/python3.7/dist-packages (from scikit-image->fiftyone) (2021.11.2)\n",
            "Requirement already satisfied: threadpoolctl>=2.0.0 in /usr/local/lib/python3.7/dist-packages (from scikit-learn->fiftyone) (3.1.0)\n",
            "Requirement already satisfied: joblib>=0.11 in /usr/local/lib/python3.7/dist-packages (from scikit-learn->fiftyone) (1.2.0)\n"
          ]
        }
      ],
      "source": [
        "!pip install fiftyone"
      ]
    },
    {
      "cell_type": "code",
      "execution_count": null,
      "metadata": {
        "colab": {
          "base_uri": "https://localhost:8080/"
        },
        "id": "PJah4ts-ApP_",
        "outputId": "14bad3ad-c1b3-4274-f37e-f37d409c00c5"
      },
      "outputs": [
        {
          "output_type": "stream",
          "name": "stdout",
          "text": [
            "Looking in indexes: https://pypi.org/simple, https://us-python.pkg.dev/colab-wheels/public/simple/\n",
            "Requirement already satisfied: torch in /usr/local/lib/python3.7/dist-packages (1.12.1+cu113)\n",
            "Requirement already satisfied: torchvision in /usr/local/lib/python3.7/dist-packages (0.13.1+cu113)\n",
            "Requirement already satisfied: typing-extensions in /usr/local/lib/python3.7/dist-packages (from torch) (4.1.1)\n",
            "Requirement already satisfied: pillow!=8.3.*,>=5.3.0 in /usr/local/lib/python3.7/dist-packages (from torchvision) (7.1.2)\n",
            "Requirement already satisfied: numpy in /usr/local/lib/python3.7/dist-packages (from torchvision) (1.21.6)\n",
            "Requirement already satisfied: requests in /usr/local/lib/python3.7/dist-packages (from torchvision) (2.23.0)\n",
            "Requirement already satisfied: urllib3!=1.25.0,!=1.25.1,<1.26,>=1.21.1 in /usr/local/lib/python3.7/dist-packages (from requests->torchvision) (1.25.11)\n",
            "Requirement already satisfied: idna<3,>=2.5 in /usr/local/lib/python3.7/dist-packages (from requests->torchvision) (2.10)\n",
            "Requirement already satisfied: chardet<4,>=3.0.2 in /usr/local/lib/python3.7/dist-packages (from requests->torchvision) (3.0.4)\n",
            "Requirement already satisfied: certifi>=2017.4.17 in /usr/local/lib/python3.7/dist-packages (from requests->torchvision) (2022.9.24)\n"
          ]
        }
      ],
      "source": [
        "!pip install torch torchvision"
      ]
    },
    {
      "cell_type": "code",
      "execution_count": null,
      "metadata": {
        "colab": {
          "base_uri": "https://localhost:8080/"
        },
        "id": "7dVQMF0SWg5I",
        "outputId": "0a572f90-bfa2-4289-f2eb-193d054a934b"
      },
      "outputs": [
        {
          "output_type": "stream",
          "name": "stdout",
          "text": [
            "fatal: destination path 'vision' already exists and is not an empty directory.\n",
            "HEAD is now at be376084d version check against PyTorch's CUDA version\n"
          ]
        },
        {
          "output_type": "execute_result",
          "data": {
            "text/plain": []
          },
          "metadata": {},
          "execution_count": 3
        }
      ],
      "source": [
        "%%shell\n",
        "\n",
        "# Download TorchVision repo to use some files from\n",
        "# references/detection\n",
        "git clone https://github.com/pytorch/vision.git\n",
        "cd vision\n",
        "git checkout v0.3.0\n",
        "\n",
        "cp references/detection/utils.py ../\n",
        "cp references/detection/transforms.py ../\n",
        "cp references/detection/coco_eval.py ../\n",
        "cp references/detection/engine.py ../\n",
        "cp references/detection/coco_utils.py ../"
      ]
    },
    {
      "cell_type": "code",
      "execution_count": null,
      "metadata": {
        "colab": {
          "base_uri": "https://localhost:8080/"
        },
        "id": "pZ2cvwpPWXBt",
        "outputId": "fb941812-4972-478d-bf1e-bdad9788c413"
      },
      "outputs": [
        {
          "output_type": "execute_result",
          "data": {
            "text/plain": [
              "<torch._C.Generator at 0x7f049a2a87d0>"
            ]
          },
          "metadata": {},
          "execution_count": 4
        }
      ],
      "source": [
        "import torch\n",
        "\n",
        "torch.manual_seed(1)"
      ]
    },
    {
      "cell_type": "code",
      "execution_count": null,
      "metadata": {
        "id": "TDvJBjDk2wpy"
      },
      "outputs": [],
      "source": [
        "import fiftyone as fo\n",
        "import fiftyone.zoo as foz"
      ]
    },
    {
      "cell_type": "code",
      "execution_count": null,
      "metadata": {
        "colab": {
          "base_uri": "https://localhost:8080/"
        },
        "id": "5crNDNsRWdPT",
        "outputId": "c349973e-a4c8-4300-fbb3-2309c68951b4"
      },
      "outputs": [
        {
          "output_type": "stream",
          "name": "stdout",
          "text": [
            "Downloading split 'validation' to '/root/fiftyone/coco-2017/validation' if necessary\n"
          ]
        },
        {
          "output_type": "stream",
          "name": "stderr",
          "text": [
            "INFO:fiftyone.zoo.datasets:Downloading split 'validation' to '/root/fiftyone/coco-2017/validation' if necessary\n"
          ]
        },
        {
          "output_type": "stream",
          "name": "stdout",
          "text": [
            "Found annotations at '/root/fiftyone/coco-2017/raw/instances_val2017.json'\n"
          ]
        },
        {
          "output_type": "stream",
          "name": "stderr",
          "text": [
            "INFO:fiftyone.utils.coco:Found annotations at '/root/fiftyone/coco-2017/raw/instances_val2017.json'\n"
          ]
        },
        {
          "output_type": "stream",
          "name": "stdout",
          "text": [
            "Images already downloaded\n"
          ]
        },
        {
          "output_type": "stream",
          "name": "stderr",
          "text": [
            "INFO:fiftyone.utils.coco:Images already downloaded\n"
          ]
        },
        {
          "output_type": "stream",
          "name": "stdout",
          "text": [
            "Existing download of split 'validation' is sufficient\n"
          ]
        },
        {
          "output_type": "stream",
          "name": "stderr",
          "text": [
            "INFO:fiftyone.zoo.datasets:Existing download of split 'validation' is sufficient\n"
          ]
        },
        {
          "output_type": "stream",
          "name": "stdout",
          "text": [
            "Loading existing dataset 'coco-2017-validation'. To reload from disk, either delete the existing dataset or provide a custom `dataset_name` to use\n"
          ]
        },
        {
          "output_type": "stream",
          "name": "stderr",
          "text": [
            "INFO:fiftyone.zoo.datasets:Loading existing dataset 'coco-2017-validation'. To reload from disk, either delete the existing dataset or provide a custom `dataset_name` to use\n"
          ]
        }
      ],
      "source": [
        "fo_dataset = foz.load_zoo_dataset(\"coco-2017\", \"validation\")"
      ]
    },
    {
      "cell_type": "markdown",
      "metadata": {
        "id": "sc43DB9jNqGD"
      },
      "source": [
        "We will be needing the height and width of images later in this notebook so we need to compute metadata on our dataset."
      ]
    },
    {
      "cell_type": "code",
      "execution_count": null,
      "metadata": {
        "id": "YOdY2KQeGz1r"
      },
      "outputs": [],
      "source": [
        "fo_dataset.compute_metadata()"
      ]
    },
    {
      "cell_type": "markdown",
      "metadata": {
        "id": "99mcj42PN4OE"
      },
      "source": [
        "We can create a session and visualize this dataset in the [FiftyOne App](https://voxel51.com/docs/fiftyone/user_guide/app.html)."
      ]
    },
    {
      "cell_type": "code",
      "execution_count": null,
      "metadata": {
        "colab": {
          "base_uri": "https://localhost:8080/",
          "height": 821
        },
        "id": "m63jPSOmCtK1",
        "outputId": "2166385d-1503-445f-ee17-1164959b7cdf"
      },
      "outputs": [
        {
          "output_type": "display_data",
          "data": {
            "text/plain": [
              "<IPython.core.display.HTML object>"
            ],
            "text/html": [
              "\n",
              "<style>\n",
              "\n",
              "@import url(\"https://fonts.googleapis.com/css2?family=Palanquin&display=swap\");\n",
              "\n",
              "#focontainer-2e8bcb4f-d0db-48a1-999b-f990358a0687 {\n",
              "  position: relative;\n",
              "  height: px;\n",
              "  display: block !important;\n",
              "}\n",
              "#foactivate-2e8bcb4f-d0db-48a1-999b-f990358a0687 {\n",
              "  font-weight: bold;\n",
              "  cursor: pointer;\n",
              "  font-size: 24px;\n",
              "  border-radius: 3px;\n",
              "  text-align: center;\n",
              "  padding: 0.5em;\n",
              "  color: rgb(255, 255, 255);\n",
              "  font-family: \"Palanquin\", sans-serif;\n",
              "  position: absolute;\n",
              "  left: 50%;\n",
              "  top: 50%;\n",
              "  width: 160px;\n",
              "  margin-left: -80px;\n",
              "  margin-top: -23px;\n",
              "  background: hsla(210,11%,15%, 0.8);\n",
              "  border: none;\n",
              "}\n",
              "#foactivate-2e8bcb4f-d0db-48a1-999b-f990358a0687:focus {\n",
              "  outline: none;\n",
              "}\n",
              "#fooverlay-2e8bcb4f-d0db-48a1-999b-f990358a0687 {\n",
              "  width: 100%;\n",
              "  height: 100%;\n",
              "  background: hsla(208, 7%, 46%, 0.7);\n",
              "  position: absolute;\n",
              "  top: 0;\n",
              "  left: 0;\n",
              "  display: none;\n",
              "  cursor: pointer;\n",
              "}\n",
              "</style>\n",
              "<div id=\"focontainer-2e8bcb4f-d0db-48a1-999b-f990358a0687\" style=\"display: none;\">\n",
              "   <div id=\"fooverlay-2e8bcb4f-d0db-48a1-999b-f990358a0687\">\n",
              "      <button id=\"foactivate-2e8bcb4f-d0db-48a1-999b-f990358a0687\" >Activate</button>\n",
              "   </div>\n",
              "</div>"
            ]
          },
          "metadata": {}
        }
      ],
      "source": [
        "session = fo.launch_app(fo_dataset)"
      ]
    },
    {
      "cell_type": "code",
      "execution_count": null,
      "metadata": {
        "id": "0bWTAHNUDXSh"
      },
      "outputs": [],
      "source": [
        "import torch\n",
        "import fiftyone.utils.coco as fouc\n",
        "from PIL import Image\n",
        "\n",
        "\n",
        "class FiftyOneTorchDataset(torch.utils.data.Dataset):\n",
        "    def __init__(\n",
        "        self,\n",
        "        fiftyone_dataset,\n",
        "        transforms=None,\n",
        "        gt_field=\"ground_truth\",\n",
        "        classes=None,\n",
        "    ):\n",
        "        self.samples = fiftyone_dataset\n",
        "        self.transforms = transforms\n",
        "        self.gt_field = gt_field\n",
        "\n",
        "        self.img_paths = self.samples.values(\"filepath\")\n",
        "\n",
        "        self.classes = classes\n",
        "        if not self.classes:\n",
        "            # Get list of distinct labels that exist in the view\n",
        "            self.classes = self.samples.distinct(\n",
        "                \"%s.detections.label\" % gt_field\n",
        "            )\n",
        "\n",
        "        if self.classes[0] != \"background\":\n",
        "            self.classes = [\"background\"] + self.classes\n",
        "\n",
        "        self.labels_map_rev = {c: i for i, c in enumerate(self.classes)}\n",
        "\n",
        "    def __getitem__(self, idx):\n",
        "        img_path = self.img_paths[idx]\n",
        "        sample = self.samples[img_path]\n",
        "        metadata = sample.metadata\n",
        "        img = Image.open(img_path).convert(\"RGB\")\n",
        "\n",
        "        boxes = []\n",
        "        labels = []\n",
        "        area = []\n",
        "        iscrowd = []\n",
        "        detections = sample[self.gt_field].detections\n",
        "        for det in detections:\n",
        "            category_id = self.labels_map_rev[det.label]\n",
        "            coco_obj = fouc.COCOObject.from_label(\n",
        "                det, metadata, category_id=category_id,\n",
        "            )\n",
        "            x, y, w, h = coco_obj.bbox\n",
        "            boxes.append([x, y, x + w, y + h])\n",
        "            labels.append(coco_obj.category_id)\n",
        "            area.append(coco_obj.area)\n",
        "            iscrowd.append(coco_obj.iscrowd)\n",
        "\n",
        "        target = {}\n",
        "        target[\"boxes\"] = torch.as_tensor(boxes, dtype=torch.float32)\n",
        "        target[\"labels\"] = torch.as_tensor(labels, dtype=torch.int64)\n",
        "        target[\"image_id\"] = torch.as_tensor([idx])\n",
        "        target[\"area\"] = torch.as_tensor(area, dtype=torch.float32)\n",
        "        target[\"iscrowd\"] = torch.as_tensor(iscrowd, dtype=torch.int64)\n",
        "\n",
        "        if self.transforms is not None:\n",
        "            img, target = self.transforms(img, target)\n",
        "\n",
        "        return img, target\n",
        "\n",
        "    def __len__(self):\n",
        "        return len(self.img_paths)\n",
        "\n",
        "    def get_classes(self):\n",
        "        return self.classes"
      ]
    },
    {
      "cell_type": "code",
      "execution_count": null,
      "metadata": {
        "colab": {
          "base_uri": "https://localhost:8080/"
        },
        "id": "TELK0NWmWrMT",
        "outputId": "45e67208-8ece-4652-d9da-41765dfba3d4"
      },
      "outputs": [
        {
          "output_type": "stream",
          "name": "stdout",
          "text": [
            "2794\n"
          ]
        }
      ],
      "source": [
        "from fiftyone import ViewField as F\n",
        "\n",
        "detec_list = [\"person\", \"dog\"]\n",
        "detec_view = fo_dataset.filter_labels(\"ground_truth\",\n",
        "        F(\"label\").is_in(detec_list))\n",
        "\n",
        "print(len(detec_view))"
      ]
    },
    {
      "cell_type": "code",
      "execution_count": null,
      "metadata": {
        "colab": {
          "base_uri": "https://localhost:8080/",
          "height": 821
        },
        "id": "COjr-9RvErG-",
        "outputId": "21bf04c3-fabd-49e1-abbc-6e94d7191aef"
      },
      "outputs": [
        {
          "output_type": "display_data",
          "data": {
            "text/plain": [
              "<IPython.core.display.HTML object>"
            ],
            "text/html": [
              "\n",
              "<style>\n",
              "\n",
              "@import url(\"https://fonts.googleapis.com/css2?family=Palanquin&display=swap\");\n",
              "\n",
              "#focontainer-6d069746-ca79-431e-92d3-5bbb5024816b {\n",
              "  position: relative;\n",
              "  height: px;\n",
              "  display: block !important;\n",
              "}\n",
              "#foactivate-6d069746-ca79-431e-92d3-5bbb5024816b {\n",
              "  font-weight: bold;\n",
              "  cursor: pointer;\n",
              "  font-size: 24px;\n",
              "  border-radius: 3px;\n",
              "  text-align: center;\n",
              "  padding: 0.5em;\n",
              "  color: rgb(255, 255, 255);\n",
              "  font-family: \"Palanquin\", sans-serif;\n",
              "  position: absolute;\n",
              "  left: 50%;\n",
              "  top: 50%;\n",
              "  width: 160px;\n",
              "  margin-left: -80px;\n",
              "  margin-top: -23px;\n",
              "  background: hsla(210,11%,15%, 0.8);\n",
              "  border: none;\n",
              "}\n",
              "#foactivate-6d069746-ca79-431e-92d3-5bbb5024816b:focus {\n",
              "  outline: none;\n",
              "}\n",
              "#fooverlay-6d069746-ca79-431e-92d3-5bbb5024816b {\n",
              "  width: 100%;\n",
              "  height: 100%;\n",
              "  background: hsla(208, 7%, 46%, 0.7);\n",
              "  position: absolute;\n",
              "  top: 0;\n",
              "  left: 0;\n",
              "  display: none;\n",
              "  cursor: pointer;\n",
              "}\n",
              "</style>\n",
              "<div id=\"focontainer-6d069746-ca79-431e-92d3-5bbb5024816b\" style=\"display: none;\">\n",
              "   <div id=\"fooverlay-6d069746-ca79-431e-92d3-5bbb5024816b\">\n",
              "      <button id=\"foactivate-6d069746-ca79-431e-92d3-5bbb5024816b\" >Activate</button>\n",
              "   </div>\n",
              "</div>"
            ]
          },
          "metadata": {}
        }
      ],
      "source": [
        "session.view = detec_view"
      ]
    },
    {
      "cell_type": "code",
      "execution_count": null,
      "metadata": {
        "id": "9BjUPS6FWndn"
      },
      "outputs": [],
      "source": [
        "# From the torchvision references we cloned\n",
        "import transforms as T\n",
        "\n",
        "train_transforms = T.Compose([T.ToTensor(), T.RandomHorizontalFlip(0.5)])"
      ]
    },
    {
      "cell_type": "code",
      "execution_count": null,
      "metadata": {
        "id": "506vhQ9gZmWX"
      },
      "outputs": [],
      "source": [
        "# use our dataset and defined transformations\n",
        "torch_dataset = FiftyOneTorchDataset(detec_view, train_transforms,\n",
        "        classes=detec_list)"
      ]
    },
    {
      "cell_type": "code",
      "execution_count": null,
      "metadata": {
        "id": "FapD-ChKFuvz"
      },
      "outputs": [],
      "source": [
        "import torchvision\n",
        "from torchvision.models.detection.faster_rcnn import FastRCNNPredictor\n",
        "\n",
        "def get_model(num_classes):\n",
        "    model = torchvision.models.detection.fasterrcnn_resnet50_fpn(pretrained=True)\n",
        "    \n",
        "    in_features = model.roi_heads.box_predictor.cls_score.in_features\n",
        "    # replace the pre-trained head with a new one\n",
        "    model.roi_heads.box_predictor = FastRCNNPredictor(in_features, num_classes)\n",
        "    return model"
      ]
    },
    {
      "cell_type": "code",
      "execution_count": null,
      "metadata": {
        "id": "x9najIb7F8ou"
      },
      "outputs": [],
      "source": [
        "# Import functions from the torchvision references we cloned\n",
        "from engine import train_one_epoch, evaluate\n",
        "import utils\n",
        "\n",
        "\n",
        "def train(model, dataset,  num_epochs=4):\n",
        "  # define training and validation data loaders\n",
        "  data_loader = torch.utils.data.DataLoader(\n",
        "  dataset, batch_size=2, shuffle=True, num_workers=2,\n",
        "  collate_fn=utils.collate_fn)\n",
        "  # check if gpu is availabe , otherwise use cpu\n",
        "  device = torch.device('cuda') if torch.cuda.is_available() else torch.device('cpu')\n",
        "  print(\"Using device %s\" % device)\n",
        "  model.to(device)\n",
        "\n",
        " \n",
        "  steps_per_epoch = len(data_loader)\n",
        "  optimizer = torch.optim.Adam(model.parameters())\n",
        "  for epoch in range(num_epochs):\n",
        "    train_one_epoch(model, optimizer, data_loader, device,epoch+1, 100)\n",
        "  optimizer.step()"
      ]
    },
    {
      "cell_type": "code",
      "execution_count": null,
      "metadata": {
        "colab": {
          "base_uri": "https://localhost:8080/"
        },
        "id": "zK67qxoN1EYG",
        "outputId": "ee7b98f7-bfc7-4515-9ac1-fa7bd23b34c3"
      },
      "outputs": [
        {
          "output_type": "stream",
          "name": "stderr",
          "text": [
            "/usr/local/lib/python3.7/dist-packages/torchvision/models/_utils.py:209: UserWarning: The parameter 'pretrained' is deprecated since 0.13 and will be removed in 0.15, please use 'weights' instead.\n",
            "  f\"The parameter '{pretrained_param}' is deprecated since 0.13 and will be removed in 0.15, \"\n",
            "/usr/local/lib/python3.7/dist-packages/torchvision/models/_utils.py:223: UserWarning: Arguments other than a weight enum or `None` for 'weights' are deprecated since 0.13 and will be removed in 0.15. The current behavior is equivalent to passing `weights=FasterRCNN_ResNet50_FPN_Weights.COCO_V1`. You can also use `weights=FasterRCNN_ResNet50_FPN_Weights.DEFAULT` to get the most up-to-date weights.\n",
            "  warnings.warn(msg)\n"
          ]
        }
      ],
      "source": [
        "model = get_model(len(detec_list)+1)"
      ]
    },
    {
      "cell_type": "code",
      "execution_count": null,
      "metadata": {
        "colab": {
          "base_uri": "https://localhost:8080/"
        },
        "id": "aknIXYy1hTQ3",
        "outputId": "cf38b9b2-725c-44e0-dfd0-c3d99368bea2"
      },
      "outputs": [
        {
          "output_type": "stream",
          "name": "stdout",
          "text": [
            "Using device cuda\n"
          ]
        },
        {
          "output_type": "stream",
          "name": "stderr",
          "text": [
            "/usr/local/lib/python3.7/dist-packages/pymongo/topology.py:165: UserWarning: MongoClient opened before fork. Create MongoClient only after forking. See PyMongo's documentation for details: https://pymongo.readthedocs.io/en/stable/faq.html#is-pymongo-fork-safe\n",
            "  \"MongoClient opened before fork. Create MongoClient only \"\n",
            "/usr/local/lib/python3.7/dist-packages/pymongo/topology.py:165: UserWarning: MongoClient opened before fork. Create MongoClient only after forking. See PyMongo's documentation for details: https://pymongo.readthedocs.io/en/stable/faq.html#is-pymongo-fork-safe\n",
            "  \"MongoClient opened before fork. Create MongoClient only \"\n"
          ]
        },
        {
          "output_type": "stream",
          "name": "stdout",
          "text": [
            "Epoch: [0]  [   0/1397]  eta: 1:25:54  lr: 0.000002  loss: 1.6718 (1.6718)  loss_classifier: 1.3732 (1.3732)  loss_box_reg: 0.2600 (0.2600)  loss_objectness: 0.0313 (0.0313)  loss_rpn_box_reg: 0.0074 (0.0074)  time: 3.6897  data: 0.4088  max mem: 2337\n",
            "Epoch: [0]  [ 100/1397]  eta: 0:14:01  lr: 0.000102  loss: 0.3387 (0.6483)  loss_classifier: 0.1209 (0.2855)  loss_box_reg: 0.2113 (0.2973)  loss_objectness: 0.0137 (0.0370)  loss_rpn_box_reg: 0.0125 (0.0284)  time: 0.6330  data: 0.0087  max mem: 4181\n",
            "Epoch: [0]  [ 200/1397]  eta: 0:12:27  lr: 0.000202  loss: 0.4755 (0.5977)  loss_classifier: 0.1854 (0.2377)  loss_box_reg: 0.2199 (0.2708)  loss_objectness: 0.0823 (0.0510)  loss_rpn_box_reg: 0.0348 (0.0382)  time: 0.6128  data: 0.0096  max mem: 4182\n",
            "Epoch: [0]  [ 300/1397]  eta: 0:11:23  lr: 0.000302  loss: 0.3611 (0.5858)  loss_classifier: 0.1217 (0.2181)  loss_box_reg: 0.1557 (0.2624)  loss_objectness: 0.0337 (0.0615)  loss_rpn_box_reg: 0.0180 (0.0438)  time: 0.6133  data: 0.0094  max mem: 4182\n",
            "Epoch: [0]  [ 400/1397]  eta: 0:10:21  lr: 0.000402  loss: 0.4420 (0.5867)  loss_classifier: 0.1932 (0.2171)  loss_box_reg: 0.1463 (0.2525)  loss_objectness: 0.0483 (0.0702)  loss_rpn_box_reg: 0.0204 (0.0468)  time: 0.6048  data: 0.0091  max mem: 4182\n",
            "Epoch: [0]  [ 500/1397]  eta: 0:09:17  lr: 0.000501  loss: 0.4472 (0.5817)  loss_classifier: 0.1473 (0.2107)  loss_box_reg: 0.1415 (0.2398)  loss_objectness: 0.0724 (0.0811)  loss_rpn_box_reg: 0.0218 (0.0501)  time: 0.6014  data: 0.0098  max mem: 4552\n",
            "Epoch: [0]  [ 600/1397]  eta: 0:08:11  lr: 0.000601  loss: 0.4062 (0.5751)  loss_classifier: 0.1557 (0.2035)  loss_box_reg: 0.0883 (0.2273)  loss_objectness: 0.1418 (0.0907)  loss_rpn_box_reg: 0.0351 (0.0535)  time: 0.5961  data: 0.0094  max mem: 4552\n",
            "Epoch: [0]  [ 700/1397]  eta: 0:07:09  lr: 0.000701  loss: 0.4629 (0.5719)  loss_classifier: 0.1952 (0.1996)  loss_box_reg: 0.1584 (0.2191)  loss_objectness: 0.0996 (0.0978)  loss_rpn_box_reg: 0.0320 (0.0555)  time: 0.6476  data: 0.0093  max mem: 4553\n",
            "Epoch: [0]  [ 800/1397]  eta: 0:06:06  lr: 0.000801  loss: 0.4459 (0.5642)  loss_classifier: 0.1465 (0.1964)  loss_box_reg: 0.1352 (0.2122)  loss_objectness: 0.0831 (0.1010)  loss_rpn_box_reg: 0.0232 (0.0546)  time: 0.5786  data: 0.0094  max mem: 4553\n",
            "Epoch: [0]  [ 900/1397]  eta: 0:05:04  lr: 0.000901  loss: 0.3409 (0.5626)  loss_classifier: 0.1443 (0.1951)  loss_box_reg: 0.0966 (0.2098)  loss_objectness: 0.0824 (0.1027)  loss_rpn_box_reg: 0.0230 (0.0551)  time: 0.6279  data: 0.0092  max mem: 4553\n",
            "Epoch: [0]  [1000/1397]  eta: 0:04:03  lr: 0.001000  loss: 0.3945 (0.5567)  loss_classifier: 0.1496 (0.1908)  loss_box_reg: 0.1533 (0.2040)  loss_objectness: 0.0774 (0.1051)  loss_rpn_box_reg: 0.0270 (0.0568)  time: 0.6292  data: 0.0085  max mem: 4553\n",
            "Epoch: [0]  [1100/1397]  eta: 0:03:01  lr: 0.001000  loss: 0.3729 (0.5515)  loss_classifier: 0.0798 (0.1875)  loss_box_reg: 0.0914 (0.1980)  loss_objectness: 0.1526 (0.1084)  loss_rpn_box_reg: 0.0459 (0.0576)  time: 0.6158  data: 0.0090  max mem: 4553\n",
            "Epoch: [0]  [1200/1397]  eta: 0:02:00  lr: 0.001000  loss: 0.5783 (0.5536)  loss_classifier: 0.1489 (0.1852)  loss_box_reg: 0.1041 (0.1930)  loss_objectness: 0.1560 (0.1154)  loss_rpn_box_reg: 0.0421 (0.0600)  time: 0.5894  data: 0.0088  max mem: 4553\n",
            "Epoch: [0]  [1300/1397]  eta: 0:00:58  lr: 0.001000  loss: 0.5994 (0.5534)  loss_classifier: 0.1716 (0.1831)  loss_box_reg: 0.1829 (0.1890)  loss_objectness: 0.1121 (0.1206)  loss_rpn_box_reg: 0.0359 (0.0608)  time: 0.5523  data: 0.0085  max mem: 4553\n",
            "Epoch: [0]  [1396/1397]  eta: 0:00:00  lr: 0.001000  loss: 0.5641 (0.5526)  loss_classifier: 0.1946 (0.1826)  loss_box_reg: 0.1855 (0.1884)  loss_objectness: 0.0917 (0.1207)  loss_rpn_box_reg: 0.0533 (0.0610)  time: 0.6054  data: 0.0085  max mem: 4553\n",
            "Epoch: [0] Total time: 0:14:07 (0.6068 s / it)\n"
          ]
        },
        {
          "output_type": "stream",
          "name": "stderr",
          "text": [
            "/usr/local/lib/python3.7/dist-packages/pymongo/topology.py:165: UserWarning: MongoClient opened before fork. Create MongoClient only after forking. See PyMongo's documentation for details: https://pymongo.readthedocs.io/en/stable/faq.html#is-pymongo-fork-safe\n",
            "  \"MongoClient opened before fork. Create MongoClient only \"\n",
            "/usr/local/lib/python3.7/dist-packages/pymongo/topology.py:165: UserWarning: MongoClient opened before fork. Create MongoClient only after forking. See PyMongo's documentation for details: https://pymongo.readthedocs.io/en/stable/faq.html#is-pymongo-fork-safe\n",
            "  \"MongoClient opened before fork. Create MongoClient only \"\n"
          ]
        },
        {
          "output_type": "stream",
          "name": "stdout",
          "text": [
            "Epoch: [1]  [   0/1397]  eta: 0:17:27  lr: 0.001000  loss: 0.3927 (0.3927)  loss_classifier: 0.1436 (0.1436)  loss_box_reg: 0.1232 (0.1232)  loss_objectness: 0.1016 (0.1016)  loss_rpn_box_reg: 0.0243 (0.0243)  time: 0.7497  data: 0.2216  max mem: 4553\n",
            "Epoch: [1]  [ 100/1397]  eta: 0:13:05  lr: 0.001000  loss: 0.5653 (0.5235)  loss_classifier: 0.1728 (0.1560)  loss_box_reg: 0.1666 (0.1598)  loss_objectness: 0.0823 (0.1366)  loss_rpn_box_reg: 0.0331 (0.0711)  time: 0.6246  data: 0.0082  max mem: 4553\n",
            "Epoch: [1]  [ 200/1397]  eta: 0:12:03  lr: 0.001000  loss: 0.4225 (0.5396)  loss_classifier: 0.1389 (0.1659)  loss_box_reg: 0.1087 (0.1735)  loss_objectness: 0.0765 (0.1294)  loss_rpn_box_reg: 0.0243 (0.0708)  time: 0.6345  data: 0.0088  max mem: 4553\n",
            "Epoch: [1]  [ 300/1397]  eta: 0:11:05  lr: 0.001000  loss: 0.5222 (0.5302)  loss_classifier: 0.1206 (0.1603)  loss_box_reg: 0.1087 (0.1671)  loss_objectness: 0.1362 (0.1282)  loss_rpn_box_reg: 0.0363 (0.0746)  time: 0.5960  data: 0.0091  max mem: 4553\n",
            "Epoch: [1]  [ 400/1397]  eta: 0:10:00  lr: 0.001000  loss: 0.5873 (0.6467)  loss_classifier: 0.1563 (0.1649)  loss_box_reg: 0.1193 (0.1668)  loss_objectness: 0.2088 (0.2075)  loss_rpn_box_reg: 0.0741 (0.1075)  time: 0.5833  data: 0.0096  max mem: 4553\n",
            "Epoch: [1]  [ 500/1397]  eta: 0:08:57  lr: 0.001000  loss: 2462.2603 (1075.5268)  loss_classifier: 701.1240 (484.5044)  loss_box_reg: 183.5048 (397.4134)  loss_objectness: 10.8875 (120.9602)  loss_rpn_box_reg: 19.4784 (72.6488)  time: 0.5421  data: 0.0090  max mem: 4553\n",
            "Epoch: [1]  [ 600/1397]  eta: 0:07:49  lr: 0.001000  loss: 591.7687 (21643.8846)  loss_classifier: 0.9956 (432.9014)  loss_box_reg: 0.0027 (15214.7881)  loss_objectness: 162.9666 (3403.6353)  loss_rpn_box_reg: 498.7152 (2592.5593)  time: 0.5589  data: 0.0094  max mem: 4553\n",
            "Epoch: [1]  [ 700/1397]  eta: 0:06:50  lr: 0.001000  loss: 1.2877 (18974.9557)  loss_classifier: 0.6165 (371.7729)  loss_box_reg: 0.0110 (13050.6579)  loss_objectness: 0.6025 (3030.8672)  loss_rpn_box_reg: 0.0435 (2521.6575)  time: 0.5857  data: 0.0088  max mem: 4553\n",
            "Epoch: [1]  [ 800/1397]  eta: 0:05:50  lr: 0.001000  loss: 1.0679 (16606.2008)  loss_classifier: 0.4912 (325.4267)  loss_box_reg: 0.0213 (11421.3659)  loss_objectness: 0.5314 (2652.5527)  loss_rpn_box_reg: 0.0256 (2206.8552)  time: 0.5698  data: 0.0086  max mem: 4553\n",
            "Epoch: [1]  [ 900/1397]  eta: 0:04:51  lr: 0.001000  loss: 0.9129 (14763.2313)  loss_classifier: 0.4079 (289.3575)  loss_box_reg: 0.0133 (10153.7359)  loss_objectness: 0.4736 (2358.2088)  loss_rpn_box_reg: 0.0195 (1961.9289)  time: 0.5873  data: 0.0088  max mem: 4553\n",
            "Epoch: [1]  [1000/1397]  eta: 0:03:51  lr: 0.001000  loss: 0.8214 (13288.4794)  loss_classifier: 0.3427 (260.4884)  loss_box_reg: 0.0000 (9139.3797)  loss_objectness: 0.4408 (2122.6711)  loss_rpn_box_reg: 0.0326 (1765.9399)  time: 0.5356  data: 0.0091  max mem: 4553\n",
            "Epoch: [1]  [1100/1397]  eta: 0:02:52  lr: 0.001000  loss: 0.7858 (12081.6143)  loss_classifier: 0.3094 (236.8595)  loss_box_reg: 0.0209 (8309.2857)  loss_objectness: 0.4058 (1929.9169)  loss_rpn_box_reg: 0.0201 (1605.5521)  time: 0.5864  data: 0.0104  max mem: 4553\n",
            "Epoch: [1]  [1200/1397]  eta: 0:01:54  lr: 0.001000  loss: 0.7283 (11075.7192)  loss_classifier: 0.2709 (217.1620)  loss_box_reg: 0.0190 (7617.4247)  loss_objectness: 0.3819 (1769.2593)  loss_rpn_box_reg: 0.0184 (1471.8731)  time: 0.5616  data: 0.0096  max mem: 4553\n",
            "Epoch: [1]  [1300/1397]  eta: 0:00:56  lr: 0.001000  loss: 0.7552 (10224.4555)  loss_classifier: 0.2504 (200.4905)  loss_box_reg: 0.0511 (7031.9227)  loss_objectness: 0.4039 (1633.2979)  loss_rpn_box_reg: 0.0525 (1358.7441)  time: 0.5621  data: 0.0089  max mem: 4553\n",
            "Epoch: [1]  [1396/1397]  eta: 0:00:00  lr: 0.001000  loss: 0.6259 (9521.8943)  loss_classifier: 0.2266 (186.7298)  loss_box_reg: 0.0333 (6548.7014)  loss_objectness: 0.3390 (1521.0860)  loss_rpn_box_reg: 0.0237 (1265.3770)  time: 0.5740  data: 0.0084  max mem: 4553\n",
            "Epoch: [1] Total time: 0:13:29 (0.5795 s / it)\n"
          ]
        },
        {
          "output_type": "stream",
          "name": "stderr",
          "text": [
            "/usr/local/lib/python3.7/dist-packages/pymongo/topology.py:165: UserWarning: MongoClient opened before fork. Create MongoClient only after forking. See PyMongo's documentation for details: https://pymongo.readthedocs.io/en/stable/faq.html#is-pymongo-fork-safe\n",
            "  \"MongoClient opened before fork. Create MongoClient only \"\n",
            "/usr/local/lib/python3.7/dist-packages/pymongo/topology.py:165: UserWarning: MongoClient opened before fork. Create MongoClient only after forking. See PyMongo's documentation for details: https://pymongo.readthedocs.io/en/stable/faq.html#is-pymongo-fork-safe\n",
            "  \"MongoClient opened before fork. Create MongoClient only \"\n"
          ]
        },
        {
          "output_type": "stream",
          "name": "stdout",
          "text": [
            "Epoch: [2]  [   0/1397]  eta: 0:20:41  lr: 0.001000  loss: 1.2761 (1.2761)  loss_classifier: 0.2220 (0.2220)  loss_box_reg: 0.0226 (0.0226)  loss_objectness: 0.5362 (0.5362)  loss_rpn_box_reg: 0.4953 (0.4953)  time: 0.8889  data: 0.2109  max mem: 4553\n",
            "Epoch: [2]  [ 100/1397]  eta: 0:11:59  lr: 0.001000  loss: 0.6707 (0.7443)  loss_classifier: 0.2262 (0.2281)  loss_box_reg: 0.0578 (0.0509)  loss_objectness: 0.3469 (0.3811)  loss_rpn_box_reg: 0.0315 (0.0843)  time: 0.5618  data: 0.0091  max mem: 4553\n",
            "Epoch: [2]  [ 200/1397]  eta: 0:11:18  lr: 0.001000  loss: 0.5516 (0.7106)  loss_classifier: 0.1842 (0.2171)  loss_box_reg: 0.0202 (0.0473)  loss_objectness: 0.3126 (0.3706)  loss_rpn_box_reg: 0.0228 (0.0757)  time: 0.5811  data: 0.0096  max mem: 4553\n",
            "Epoch: [2]  [ 300/1397]  eta: 0:10:29  lr: 0.001000  loss: 0.5088 (0.7074)  loss_classifier: 0.1674 (0.2104)  loss_box_reg: 0.0139 (0.0467)  loss_objectness: 0.3062 (0.3710)  loss_rpn_box_reg: 0.0191 (0.0794)  time: 0.5867  data: 0.0092  max mem: 4553\n",
            "Epoch: [2]  [ 400/1397]  eta: 0:09:32  lr: 0.001000  loss: 0.6100 (0.7009)  loss_classifier: 0.1820 (0.2055)  loss_box_reg: 0.0458 (0.0485)  loss_objectness: 0.3267 (0.3678)  loss_rpn_box_reg: 0.0346 (0.0791)  time: 0.5329  data: 0.0093  max mem: 4553\n",
            "Epoch: [2]  [ 500/1397]  eta: 0:08:35  lr: 0.001000  loss: 0.5454 (0.6887)  loss_classifier: 0.1611 (0.1988)  loss_box_reg: 0.0356 (0.0473)  loss_objectness: 0.2839 (0.3630)  loss_rpn_box_reg: 0.0210 (0.0796)  time: 0.5742  data: 0.0094  max mem: 4553\n",
            "Epoch: [2]  [ 600/1397]  eta: 0:07:40  lr: 0.001000  loss: 0.4990 (0.6785)  loss_classifier: 0.1589 (0.1940)  loss_box_reg: 0.0329 (0.0477)  loss_objectness: 0.2770 (0.3591)  loss_rpn_box_reg: 0.0309 (0.0778)  time: 0.5892  data: 0.0097  max mem: 4553\n",
            "Epoch: [2]  [ 700/1397]  eta: 0:06:39  lr: 0.001000  loss: 0.5087 (0.6694)  loss_classifier: 0.1466 (0.1895)  loss_box_reg: 0.0421 (0.0487)  loss_objectness: 0.2934 (0.3544)  loss_rpn_box_reg: 0.0278 (0.0768)  time: 0.5202  data: 0.0094  max mem: 4553\n",
            "Epoch: [2]  [ 800/1397]  eta: 0:05:42  lr: 0.001000  loss: 0.5033 (0.6573)  loss_classifier: 0.1492 (0.1853)  loss_box_reg: 0.0486 (0.0495)  loss_objectness: 0.2521 (0.3486)  loss_rpn_box_reg: 0.0169 (0.0738)  time: 0.5801  data: 0.0090  max mem: 4553\n",
            "Epoch: [2]  [ 900/1397]  eta: 0:04:45  lr: 0.001000  loss: 0.4572 (0.6488)  loss_classifier: 0.1324 (0.1815)  loss_box_reg: 0.0333 (0.0499)  loss_objectness: 0.2605 (0.3450)  loss_rpn_box_reg: 0.0248 (0.0724)  time: 0.5781  data: 0.0090  max mem: 4553\n",
            "Epoch: [2]  [1000/1397]  eta: 0:03:47  lr: 0.001000  loss: 0.5558 (0.6454)  loss_classifier: 0.1502 (0.1780)  loss_box_reg: 0.0469 (0.0503)  loss_objectness: 0.2983 (0.3434)  loss_rpn_box_reg: 0.0480 (0.0737)  time: 0.5781  data: 0.0080  max mem: 4553\n",
            "Epoch: [2]  [1100/1397]  eta: 0:02:50  lr: 0.001000  loss: 0.4143 (0.6389)  loss_classifier: 0.1202 (0.1742)  loss_box_reg: 0.0224 (0.0498)  loss_objectness: 0.2440 (0.3408)  loss_rpn_box_reg: 0.0273 (0.0740)  time: 0.5646  data: 0.0088  max mem: 4553\n",
            "Epoch: [2]  [1200/1397]  eta: 0:01:52  lr: 0.001000  loss: 0.4527 (0.6341)  loss_classifier: 0.1191 (0.1715)  loss_box_reg: 0.0301 (0.0503)  loss_objectness: 0.2582 (0.3387)  loss_rpn_box_reg: 0.0235 (0.0737)  time: 0.5409  data: 0.0087  max mem: 4553\n",
            "Epoch: [2]  [1300/1397]  eta: 0:00:55  lr: 0.001000  loss: 0.4007 (0.6292)  loss_classifier: 0.1066 (0.1682)  loss_box_reg: 0.0181 (0.0499)  loss_objectness: 0.2303 (0.3366)  loss_rpn_box_reg: 0.0145 (0.0745)  time: 0.5672  data: 0.0092  max mem: 4553\n",
            "Epoch: [2]  [1396/1397]  eta: 0:00:00  lr: 0.001000  loss: 0.4406 (0.6226)  loss_classifier: 0.1119 (0.1652)  loss_box_reg: 0.0435 (0.0497)  loss_objectness: 0.2578 (0.3336)  loss_rpn_box_reg: 0.0305 (0.0742)  time: 0.5813  data: 0.0088  max mem: 4553\n",
            "Epoch: [2] Total time: 0:13:19 (0.5722 s / it)\n"
          ]
        },
        {
          "output_type": "stream",
          "name": "stderr",
          "text": [
            "/usr/local/lib/python3.7/dist-packages/pymongo/topology.py:165: UserWarning: MongoClient opened before fork. Create MongoClient only after forking. See PyMongo's documentation for details: https://pymongo.readthedocs.io/en/stable/faq.html#is-pymongo-fork-safe\n",
            "  \"MongoClient opened before fork. Create MongoClient only \"\n",
            "/usr/local/lib/python3.7/dist-packages/pymongo/topology.py:165: UserWarning: MongoClient opened before fork. Create MongoClient only after forking. See PyMongo's documentation for details: https://pymongo.readthedocs.io/en/stable/faq.html#is-pymongo-fork-safe\n",
            "  \"MongoClient opened before fork. Create MongoClient only \"\n"
          ]
        },
        {
          "output_type": "stream",
          "name": "stdout",
          "text": [
            "Epoch: [3]  [   0/1397]  eta: 0:16:03  lr: 0.001000  loss: 0.6863 (0.6863)  loss_classifier: 0.1363 (0.1363)  loss_box_reg: 0.0355 (0.0355)  loss_objectness: 0.4094 (0.4094)  loss_rpn_box_reg: 0.1051 (0.1051)  time: 0.6898  data: 0.2237  max mem: 4553\n",
            "Epoch: [3]  [ 100/1397]  eta: 0:12:34  lr: 0.001000  loss: 0.3812 (0.5008)  loss_classifier: 0.0999 (0.1230)  loss_box_reg: 0.0319 (0.0487)  loss_objectness: 0.2297 (0.2779)  loss_rpn_box_reg: 0.0243 (0.0512)  time: 0.5811  data: 0.0085  max mem: 4553\n",
            "Epoch: [3]  [ 200/1397]  eta: 0:11:21  lr: 0.001000  loss: 0.5155 (0.5204)  loss_classifier: 0.1096 (0.1217)  loss_box_reg: 0.0340 (0.0472)  loss_objectness: 0.2955 (0.2902)  loss_rpn_box_reg: 0.0415 (0.0611)  time: 0.5933  data: 0.0090  max mem: 4553\n",
            "Epoch: [3]  [ 300/1397]  eta: 0:10:23  lr: 0.001000  loss: 0.4024 (0.5465)  loss_classifier: 0.1075 (0.1233)  loss_box_reg: 0.0413 (0.0495)  loss_objectness: 0.2425 (0.3004)  loss_rpn_box_reg: 0.0266 (0.0733)  time: 0.5413  data: 0.0085  max mem: 4553\n",
            "Epoch: [3]  [ 400/1397]  eta: 0:09:25  lr: 0.001000  loss: 0.4490 (0.5414)  loss_classifier: 0.1117 (0.1208)  loss_box_reg: 0.0554 (0.0483)  loss_objectness: 0.2432 (0.2993)  loss_rpn_box_reg: 0.0368 (0.0730)  time: 0.5641  data: 0.0090  max mem: 4553\n",
            "Epoch: [3]  [ 500/1397]  eta: 0:08:31  lr: 0.001000  loss: 0.3119 (0.5406)  loss_classifier: 0.0837 (0.1194)  loss_box_reg: 0.0268 (0.0480)  loss_objectness: 0.1989 (0.2985)  loss_rpn_box_reg: 0.0151 (0.0747)  time: 0.5677  data: 0.0088  max mem: 4553\n",
            "Epoch: [3]  [ 600/1397]  eta: 0:07:34  lr: 0.001000  loss: 0.5108 (0.5356)  loss_classifier: 0.0984 (0.1182)  loss_box_reg: 0.0314 (0.0475)  loss_objectness: 0.2816 (0.2967)  loss_rpn_box_reg: 0.0379 (0.0732)  time: 0.5905  data: 0.0089  max mem: 4553\n",
            "Epoch: [3]  [ 700/1397]  eta: 0:06:38  lr: 0.001000  loss: 0.4324 (0.5363)  loss_classifier: 0.1138 (0.1180)  loss_box_reg: 0.0495 (0.0478)  loss_objectness: 0.2402 (0.2968)  loss_rpn_box_reg: 0.0321 (0.0738)  time: 0.5806  data: 0.0092  max mem: 4553\n",
            "Epoch: [3]  [ 800/1397]  eta: 0:05:42  lr: 0.001000  loss: 0.3376 (0.5420)  loss_classifier: 0.0852 (0.1190)  loss_box_reg: 0.0224 (0.0493)  loss_objectness: 0.2118 (0.2989)  loss_rpn_box_reg: 0.0214 (0.0748)  time: 0.5666  data: 0.0092  max mem: 4553\n",
            "Epoch: [3]  [ 900/1397]  eta: 0:04:44  lr: 0.001000  loss: 0.5258 (0.5426)  loss_classifier: 0.1116 (0.1191)  loss_box_reg: 0.0436 (0.0499)  loss_objectness: 0.2981 (0.2991)  loss_rpn_box_reg: 0.0420 (0.0745)  time: 0.5770  data: 0.0092  max mem: 4553\n",
            "Epoch: [3]  [1000/1397]  eta: 0:03:47  lr: 0.001000  loss: 0.4174 (0.5355)  loss_classifier: 0.0861 (0.1173)  loss_box_reg: 0.0400 (0.0492)  loss_objectness: 0.2059 (0.2962)  loss_rpn_box_reg: 0.0303 (0.0728)  time: 0.5705  data: 0.0088  max mem: 4553\n",
            "Epoch: [3]  [1100/1397]  eta: 0:02:49  lr: 0.001000  loss: 0.4429 (0.5429)  loss_classifier: 0.0992 (0.1181)  loss_box_reg: 0.0356 (0.0502)  loss_objectness: 0.2473 (0.2994)  loss_rpn_box_reg: 0.0352 (0.0753)  time: 0.5507  data: 0.0086  max mem: 4553\n",
            "Epoch: [3]  [1200/1397]  eta: 0:01:52  lr: 0.001000  loss: 0.3373 (0.5369)  loss_classifier: 0.0734 (0.1168)  loss_box_reg: 0.0282 (0.0496)  loss_objectness: 0.1856 (0.2969)  loss_rpn_box_reg: 0.0154 (0.0737)  time: 0.5561  data: 0.0082  max mem: 4553\n",
            "Epoch: [3]  [1300/1397]  eta: 0:00:55  lr: 0.001000  loss: 0.4213 (0.5350)  loss_classifier: 0.0935 (0.1153)  loss_box_reg: 0.0334 (0.0486)  loss_objectness: 0.2807 (0.2970)  loss_rpn_box_reg: 0.0326 (0.0742)  time: 0.5458  data: 0.0099  max mem: 4553\n",
            "Epoch: [3]  [1396/1397]  eta: 0:00:00  lr: 0.001000  loss: 0.3198 (0.5337)  loss_classifier: 0.0639 (0.1149)  loss_box_reg: 0.0195 (0.0488)  loss_objectness: 0.2124 (0.2961)  loss_rpn_box_reg: 0.0201 (0.0739)  time: 0.5262  data: 0.0084  max mem: 4553\n",
            "Epoch: [3] Total time: 0:13:17 (0.5709 s / it)\n"
          ]
        }
      ],
      "source": [
        "train(model, torch_dataset)"
      ]
    }
  ],
  "metadata": {
    "accelerator": "GPU",
    "colab": {
      "provenance": []
    },
    "kernelspec": {
      "display_name": "Python 3",
      "language": "python",
      "name": "python3"
    },
    "language_info": {
      "codemirror_mode": {
        "name": "ipython",
        "version": 3
      },
      "file_extension": ".py",
      "mimetype": "text/x-python",
      "name": "python",
      "nbconvert_exporter": "python",
      "pygments_lexer": "ipython3",
      "version": "3.9.13"
    }
  },
  "nbformat": 4,
  "nbformat_minor": 0
}